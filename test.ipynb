{
 "cells": [
  {
   "cell_type": "code",
   "execution_count": 2,
   "metadata": {},
   "outputs": [],
   "source": [
    "import pandas as pd\n",
    "\n",
    "df = pd.read_excel('Untitled spreadsheet.xlsx')"
   ]
  },
  {
   "cell_type": "code",
   "execution_count": 12,
   "metadata": {},
   "outputs": [
    {
     "name": "stdout",
     "output_type": "stream",
     "text": [
      "[{'id': 'JP-23', 'name': 'Aichi', 'have_been': 'YES'}, {'id': 'JP-05', 'name': 'Akita', 'have_been': 'NO'}, {'id': 'JP-02', 'name': 'Aomori', 'have_been': 'YES'}, {'id': 'JP-12', 'name': 'Chiba', 'have_been': 'YES'}, {'id': 'JP-38', 'name': 'Ehime', 'have_been': 'NO'}, {'id': 'JP-18', 'name': 'Fukui', 'have_been': 'NO'}, {'id': 'JP-40', 'name': 'Fukuoka', 'have_been': 'NO'}, {'id': 'JP-07', 'name': 'Fukushima', 'have_been': 'NO'}, {'id': 'JP-21', 'name': 'Gifu', 'have_been': 'YES'}, {'id': 'JP-10', 'name': 'Gunma', 'have_been': 'NO'}, {'id': 'JP-28', 'name': 'Hyogo', 'have_been': 'YES'}, {'id': 'JP-01', 'name': 'Hokkaido', 'have_been': 'YES'}, {'id': 'JP-34', 'name': 'Hiroshima', 'have_been': 'YES'}, {'id': 'JP-08', 'name': 'Ibaraki', 'have_been': 'NO'}, {'id': 'JP-17', 'name': 'Ishikawa', 'have_been': 'NO'}, {'id': 'JP-03', 'name': 'Iwate', 'have_been': 'NO'}, {'id': 'JP-39', 'name': 'Kochi', 'have_been': 'NO'}, {'id': 'JP-37', 'name': 'Kagawa', 'have_been': 'NO'}, {'id': 'JP-43', 'name': 'Kumamoto', 'have_been': 'NO'}, {'id': 'JP-14', 'name': 'Kanagawa', 'have_been': 'YES'}, {'id': 'JP-46', 'name': 'Kagoshima', 'have_been': 'NO'}, {'id': 'JP-26', 'name': 'Kyoto', 'have_been': 'YES'}, {'id': 'JP-24', 'name': 'Mie', 'have_been': 'YES'}, {'id': 'JP-04', 'name': 'Miyagi', 'have_been': 'NO'}, {'id': 'JP-45', 'name': 'Miyazaki', 'have_been': 'NO'}, {'id': 'JP-15', 'name': 'Niigata', 'have_been': 'NO'}, {'id': 'JP-20', 'name': 'Nagano', 'have_been': 'NO'}, {'id': 'JP-29', 'name': 'Nara', 'have_been': 'YES'}, {'id': 'JP-42', 'name': 'Nagasaki', 'have_been': 'NO'}, {'id': 'JP-47', 'name': 'Okinawa', 'have_been': 'NO'}, {'id': 'JP-27', 'name': 'Osaka', 'have_been': 'YES'}, {'id': 'JP-33', 'name': 'Okayama', 'have_been': 'NO'}, {'id': 'JP-41', 'name': 'Saga', 'have_been': 'NO'}, {'id': 'JP-25', 'name': 'Shiga', 'have_been': 'NO'}, {'id': 'JP-32', 'name': 'Shimane', 'have_been': 'NO'}, {'id': 'JP-11', 'name': 'Saitama', 'have_been': 'NO'}, {'id': 'JP-22', 'name': 'Shizuoka', 'have_been': 'NO'}, {'id': 'JP-09', 'name': 'Tochigi', 'have_been': 'NO'}, {'id': 'JP-13', 'name': 'Tokyo', 'have_been': 'YES'}, {'id': 'JP-36', 'name': 'Tokushima', 'have_been': 'NO'}, {'id': 'JP-31', 'name': 'Tottori', 'have_been': 'NO'}, {'id': 'JP-16', 'name': 'Toyama', 'have_been': 'NO'}, {'id': 'JP-30', 'name': 'Wakayama', 'have_been': 'NO'}, {'id': 'JP-35', 'name': 'Yamaguchi', 'have_been': 'NO'}, {'id': 'JP-19', 'name': 'Yamanashi', 'have_been': 'NO'}, {'id': 'JP-06', 'name': 'Yamagata', 'have_been': 'NO'}]\n"
     ]
    }
   ],
   "source": [
    "prefectures = []  # Initialize an empty list\n",
    "\n",
    "for index, row in df.iterrows():\n",
    "    prefectures.append({\n",
    "        \"id\": row[\"ID\"],\n",
    "        \"name\": row[\"TITLE\"],\n",
    "        \"have_been\": row[\"HAVE_BEEN\"],\n",
    "    })\n",
    "\n",
    "print(prefectures)"
   ]
  },
  {
   "cell_type": "code",
   "execution_count": 9,
   "metadata": {},
   "outputs": [
    {
     "data": {
      "text/plain": [
       "[{'id': 0     JP-23\n",
       "  1     JP-05\n",
       "  2     JP-02\n",
       "  3     JP-12\n",
       "  4     JP-38\n",
       "  5     JP-18\n",
       "  6     JP-40\n",
       "  7     JP-07\n",
       "  8     JP-21\n",
       "  9     JP-10\n",
       "  10    JP-28\n",
       "  11    JP-01\n",
       "  12    JP-34\n",
       "  13    JP-08\n",
       "  14    JP-17\n",
       "  15    JP-03\n",
       "  16    JP-39\n",
       "  17    JP-37\n",
       "  18    JP-43\n",
       "  19    JP-14\n",
       "  20    JP-46\n",
       "  21    JP-26\n",
       "  22    JP-24\n",
       "  23    JP-04\n",
       "  24    JP-45\n",
       "  25    JP-15\n",
       "  26    JP-20\n",
       "  27    JP-29\n",
       "  28    JP-42\n",
       "  29    JP-47\n",
       "  30    JP-27\n",
       "  31    JP-33\n",
       "  32    JP-41\n",
       "  33    JP-25\n",
       "  34    JP-32\n",
       "  35    JP-11\n",
       "  36    JP-22\n",
       "  37    JP-09\n",
       "  38    JP-13\n",
       "  39    JP-36\n",
       "  40    JP-31\n",
       "  41    JP-16\n",
       "  42    JP-30\n",
       "  43    JP-35\n",
       "  44    JP-19\n",
       "  45    JP-06\n",
       "  Name: ID, dtype: object,\n",
       "  'name': 0         Aichi\n",
       "  1         Akita\n",
       "  2        Aomori\n",
       "  3         Chiba\n",
       "  4         Ehime\n",
       "  5         Fukui\n",
       "  6       Fukuoka\n",
       "  7     Fukushima\n",
       "  8          Gifu\n",
       "  9         Gunma\n",
       "  10        Hyogo\n",
       "  11     Hokkaido\n",
       "  12    Hiroshima\n",
       "  13      Ibaraki\n",
       "  14     Ishikawa\n",
       "  15        Iwate\n",
       "  16        Kochi\n",
       "  17       Kagawa\n",
       "  18     Kumamoto\n",
       "  19     Kanagawa\n",
       "  20    Kagoshima\n",
       "  21        Kyoto\n",
       "  22          Mie\n",
       "  23       Miyagi\n",
       "  24     Miyazaki\n",
       "  25      Niigata\n",
       "  26       Nagano\n",
       "  27         Nara\n",
       "  28     Nagasaki\n",
       "  29      Okinawa\n",
       "  30        Osaka\n",
       "  31      Okayama\n",
       "  32         Saga\n",
       "  33        Shiga\n",
       "  34      Shimane\n",
       "  35      Saitama\n",
       "  36     Shizuoka\n",
       "  37      Tochigi\n",
       "  38        Tokyo\n",
       "  39    Tokushima\n",
       "  40      Tottori\n",
       "  41       Toyama\n",
       "  42     Wakayama\n",
       "  43    Yamaguchi\n",
       "  44    Yamanashi\n",
       "  45     Yamagata\n",
       "  Name: TITLE, dtype: object,\n",
       "  'have_been': 'No'}]"
      ]
     },
     "execution_count": 9,
     "metadata": {},
     "output_type": "execute_result"
    }
   ],
   "source": [
    "prefectures"
   ]
  },
  {
   "cell_type": "code",
   "execution_count": 1,
   "metadata": {},
   "outputs": [
    {
     "ename": "NameError",
     "evalue": "name 'df' is not defined",
     "output_type": "error",
     "traceback": [
      "\u001b[31m---------------------------------------------------------------------------\u001b[39m",
      "\u001b[31mNameError\u001b[39m                                 Traceback (most recent call last)",
      "\u001b[36mCell\u001b[39m\u001b[36m \u001b[39m\u001b[32mIn[1]\u001b[39m\u001b[32m, line 1\u001b[39m\n\u001b[32m----> \u001b[39m\u001b[32m1\u001b[39m \u001b[38;5;28mprint\u001b[39m(\u001b[43mdf\u001b[49m)\n",
      "\u001b[31mNameError\u001b[39m: name 'df' is not defined"
     ]
    }
   ],
   "source": [
    "print(df)"
   ]
  },
  {
   "cell_type": "code",
   "execution_count": 12,
   "metadata": {},
   "outputs": [],
   "source": [
    "import sqlite3\n",
    "conn = sqlite3.connect('travels.db')\n",
    "cursor = conn.cursor()\n",
    "\n",
    "cursor.execute(\"Select * from japan\")\n",
    "japan = cursor.fetchall()\n",
    "\n",
    "conn.commit()\n",
    "cursor.close()\n",
    "conn.close()"
   ]
  },
  {
   "cell_type": "code",
   "execution_count": 3,
   "metadata": {},
   "outputs": [],
   "source": [
    "import pandas as pd\n",
    "df=pd.read_excel(\"Untitled spreadsheet.xlsx\")"
   ]
  },
  {
   "cell_type": "code",
   "execution_count": 13,
   "metadata": {},
   "outputs": [
    {
     "name": "stdout",
     "output_type": "stream",
     "text": [
      "[('JP-23', 'Aichi', 'YES'), ('JP-05', 'Akita', 'NO'), ('JP-02', 'Aomori', 'YES'), ('JP-12', 'Chiba', 'YES'), ('JP-38', 'Ehime', 'NO'), ('JP-18', 'Fukui', 'NO'), ('JP-40', 'Fukuoka', 'NO'), ('JP-07', 'Fukushima', 'NO'), ('JP-21', 'Gifu', 'YES'), ('JP-10', 'Gunma', 'NO'), ('JP-28', 'Hyogo', 'YES'), ('JP-01', 'Hokkaido', 'YES'), ('JP-34', 'Hiroshima', 'YES'), ('JP-08', 'Ibaraki', 'NO'), ('JP-17', 'Ishikawa', 'NO'), ('JP-03', 'Iwate', 'NO'), ('JP-39', 'Kochi', 'NO'), ('JP-37', 'Kagawa', 'NO'), ('JP-43', 'Kumamoto', 'NO'), ('JP-14', 'Kanagawa', 'YES'), ('JP-46', 'Kagoshima', 'NO'), ('JP-26', 'Kyoto', 'YES'), ('JP-24', 'Mie', 'YES'), ('JP-04', 'Miyagi', 'NO'), ('JP-45', 'Miyazaki', 'NO'), ('JP-15', 'Niigata', 'NO'), ('JP-20', 'Nagano', 'NO'), ('JP-29', 'Nara', 'YES'), ('JP-42', 'Nagasaki', 'NO'), ('JP-47', 'Okinawa', 'NO'), ('JP-27', 'Osaka', 'YES'), ('JP-33', 'Okayama', 'NO'), ('JP-41', 'Saga', 'NO'), ('JP-25', 'Shiga', 'NO'), ('JP-32', 'Shimane', 'NO'), ('JP-11', 'Saitama', 'NO'), ('JP-22', 'Shizuoka', 'NO'), ('JP-09', 'Tochigi', 'NO'), ('JP-13', 'Tokyo', 'YES'), ('JP-36', 'Tokushima', 'NO'), ('JP-31', 'Tottori', 'NO'), ('JP-16', 'Toyama', 'NO'), ('JP-30', 'Wakayama', 'NO'), ('JP-35', 'Yamaguchi', 'NO'), ('JP-19', 'Yamanashi', 'NO'), ('JP-06', 'Yamagata', 'NO')]\n"
     ]
    }
   ],
   "source": [
    "print(japan)"
   ]
  },
  {
   "cell_type": "code",
   "execution_count": 4,
   "metadata": {},
   "outputs": [],
   "source": [
    "import sqlite3\n",
    "\n",
    "conn = sqlite3.connect('travels.db')\n",
    "c = conn.cursor()\n",
    "query = f\"\"\"SELECT * FROM japan\"\"\"\n",
    "c.execute(query)\n",
    "data = c.fetchall()\n",
    "conn.close()"
   ]
  },
  {
   "cell_type": "code",
   "execution_count": 6,
   "metadata": {},
   "outputs": [
    {
     "data": {
      "text/plain": [
       "[('JP-23', 'Aichi', 'YES'),\n",
       " ('JP-05', 'Akita', 'NO'),\n",
       " ('JP-02', 'Aomori', 'YES'),\n",
       " ('JP-12', 'Chiba', 'YES'),\n",
       " ('JP-38', 'Ehime', 'NO'),\n",
       " ('JP-18', 'Fukui', 'NO'),\n",
       " ('JP-40', 'Fukuoka', 'NO'),\n",
       " ('JP-07', 'Fukushima', 'NO'),\n",
       " ('JP-21', 'Gifu', 'YES'),\n",
       " ('JP-10', 'Gunma', 'NO'),\n",
       " ('JP-28', 'Hyogo', 'YES'),\n",
       " ('JP-01', 'Hokkaido', 'YES'),\n",
       " ('JP-34', 'Hiroshima', 'YES'),\n",
       " ('JP-08', 'Ibaraki', 'NO'),\n",
       " ('JP-17', 'Ishikawa', 'NO'),\n",
       " ('JP-03', 'Iwate', 'NO'),\n",
       " ('JP-39', 'Kochi', 'NO'),\n",
       " ('JP-37', 'Kagawa', 'NO'),\n",
       " ('JP-43', 'Kumamoto', 'NO'),\n",
       " ('JP-14', 'Kanagawa', 'YES'),\n",
       " ('JP-46', 'Kagoshima', 'NO'),\n",
       " ('JP-26', 'Kyoto', 'YES'),\n",
       " ('JP-24', 'Mie', 'YES'),\n",
       " ('JP-04', 'Miyagi', 'NO'),\n",
       " ('JP-45', 'Miyazaki', 'NO'),\n",
       " ('JP-15', 'Niigata', 'NO'),\n",
       " ('JP-20', 'Nagano', 'NO'),\n",
       " ('JP-29', 'Nara', 'YES'),\n",
       " ('JP-42', 'Nagasaki', 'NO'),\n",
       " ('JP-47', 'Okinawa', 'NO'),\n",
       " ('JP-27', 'Osaka', 'YES'),\n",
       " ('JP-33', 'Okayama', 'NO'),\n",
       " ('JP-41', 'Saga', 'NO'),\n",
       " ('JP-25', 'Shiga', 'NO'),\n",
       " ('JP-32', 'Shimane', 'NO'),\n",
       " ('JP-11', 'Saitama', 'NO'),\n",
       " ('JP-22', 'Shizuoka', 'NO'),\n",
       " ('JP-09', 'Tochigi', 'NO'),\n",
       " ('JP-13', 'Tokyo', 'YES'),\n",
       " ('JP-36', 'Tokushima', 'NO'),\n",
       " ('JP-31', 'Tottori', 'NO'),\n",
       " ('JP-16', 'Toyama', 'NO'),\n",
       " ('JP-30', 'Wakayama', 'NO'),\n",
       " ('JP-35', 'Yamaguchi', 'NO'),\n",
       " ('JP-19', 'Yamanashi', 'NO'),\n",
       " ('JP-06', 'Yamagata', 'NO')]"
      ]
     },
     "execution_count": 6,
     "metadata": {},
     "output_type": "execute_result"
    }
   ],
   "source": [
    "data"
   ]
  },
  {
   "cell_type": "code",
   "execution_count": null,
   "metadata": {},
   "outputs": [],
   "source": []
  }
 ],
 "metadata": {
  "kernelspec": {
   "display_name": "venv",
   "language": "python",
   "name": "python3"
  },
  "language_info": {
   "codemirror_mode": {
    "name": "ipython",
    "version": 3
   },
   "file_extension": ".py",
   "mimetype": "text/x-python",
   "name": "python",
   "nbconvert_exporter": "python",
   "pygments_lexer": "ipython3",
   "version": "3.12.8"
  }
 },
 "nbformat": 4,
 "nbformat_minor": 2
}
