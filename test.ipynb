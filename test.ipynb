{
 "cells": [
  {
   "cell_type": "code",
   "execution_count": 2,
   "metadata": {},
   "outputs": [],
   "source": [
    "import pandas as pd\n",
    "\n",
    "df = pd.read_excel('Untitled spreadsheet.xlsx')"
   ]
  },
  {
   "cell_type": "code",
   "execution_count": 5,
   "metadata": {},
   "outputs": [],
   "source": [
    "color = 'red' if \"yes\" in df[\"ID\"].values else 'black'"
   ]
  },
  {
   "cell_type": "code",
   "execution_count": 12,
   "metadata": {},
   "outputs": [],
   "source": [
    "been_to_ids = df[df['HAVE_BEEN'] == 'YES']['ID'].tolist()"
   ]
  },
  {
   "cell_type": "code",
   "execution_count": 14,
   "metadata": {},
   "outputs": [
    {
     "data": {
      "text/plain": [
       "<bound method NDFrame.keys of        ID      TITLE HAVE_BEEN\n",
       "0   JP-23      Aichi       YES\n",
       "1   JP-05      Akita       YES\n",
       "2   JP-02     Aomori        NO\n",
       "3   JP-12      Chiba        NO\n",
       "4   JP-38      Ehime       YES\n",
       "5   JP-18      Fukui        NO\n",
       "6   JP-40    Fukuoka       YES\n",
       "7   JP-07  Fukushima       YES\n",
       "8   JP-21       Gifu       YES\n",
       "9   JP-10      Gunma        NO\n",
       "10  JP-28      Hyogo       YES\n",
       "11  JP-01   Hokkaido        NO\n",
       "12  JP-34  Hiroshima       YES\n",
       "13  JP-08    Ibaraki        NO\n",
       "14  JP-17   Ishikawa        NO\n",
       "15  JP-03      Iwate        NO\n",
       "16  JP-39      Kochi        NO\n",
       "17  JP-37     Kagawa       YES\n",
       "18  JP-43   Kumamoto        NO\n",
       "19  JP-14   Kanagawa        NO\n",
       "20  JP-46  Kagoshima       YES\n",
       "21  JP-26      Kyoto        NO\n",
       "22  JP-24        Mie       YES\n",
       "23  JP-04     Miyagi       YES\n",
       "24  JP-45   Miyazaki       YES\n",
       "25  JP-15    Niigata        NO\n",
       "26  JP-20     Nagano        NO\n",
       "27  JP-29       Nara       YES\n",
       "28  JP-42   Nagasaki        NO\n",
       "29  JP-47    Okinawa       YES\n",
       "30  JP-27      Osaka        NO\n",
       "31  JP-33    Okayama       YES\n",
       "32  JP-41       Saga        NO\n",
       "33  JP-25      Shiga       YES\n",
       "34  JP-32    Shimane        NO\n",
       "35  JP-11    Saitama       YES\n",
       "36  JP-22   Shizuoka        NO\n",
       "37  JP-09    Tochigi       YES\n",
       "38  JP-13      Tokyo       YES\n",
       "39  JP-36  Tokushima       YES\n",
       "40  JP-31    Tottori        NO\n",
       "41  JP-16     Toyama        NO\n",
       "42  JP-30   Wakayama        NO\n",
       "43  JP-35  Yamaguchi        NO\n",
       "44  JP-19  Yamanashi        NO\n",
       "45  JP-06   Yamagata        NO>"
      ]
     },
     "execution_count": 14,
     "metadata": {},
     "output_type": "execute_result"
    }
   ],
   "source": [
    "df.keys"
   ]
  },
  {
   "cell_type": "code",
   "execution_count": null,
   "metadata": {},
   "outputs": [],
   "source": []
  }
 ],
 "metadata": {
  "kernelspec": {
   "display_name": "venv",
   "language": "python",
   "name": "python3"
  },
  "language_info": {
   "codemirror_mode": {
    "name": "ipython",
    "version": 3
   },
   "file_extension": ".py",
   "mimetype": "text/x-python",
   "name": "python",
   "nbconvert_exporter": "python",
   "pygments_lexer": "ipython3",
   "version": "3.12.8"
  }
 },
 "nbformat": 4,
 "nbformat_minor": 2
}
